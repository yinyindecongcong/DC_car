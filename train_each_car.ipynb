{
 "cells": [
  {
   "cell_type": "code",
   "execution_count": 1,
   "metadata": {
    "scrolled": true
   },
   "outputs": [
    {
     "name": "stderr",
     "output_type": "stream",
     "text": [
      "D:\\Anaconda\\lib\\site-packages\\sklearn\\cross_validation.py:41: DeprecationWarning: This module was deprecated in version 0.18 in favor of the model_selection module into which all the refactored classes and functions are moved. Also note that the interface of the new CV iterators are different from that of this module. This module will be removed in 0.20.\n",
      "  \"This module will be removed in 0.20.\", DeprecationWarning)\n"
     ]
    }
   ],
   "source": [
    "import pandas as pd\n",
    "import numpy as np\n",
    "from math import radians, atan, tan, sin, acos, cos\n",
    "from sklearn.cluster import DBSCAN\n",
    "from sklearn import metrics\n",
    "from sklearn.datasets.samples_generator import make_blobs\n",
    "from sklearn.preprocessing import StandardScaler\n",
    "from sklearn.cross_validation import train_test_split\n",
    "import sklearn.cross_validation\n",
    "from IPython.core.interactiveshell import InteractiveShell\n",
    "InteractiveShell.ast_node_interactivity = \"all\""
   ]
  },
  {
   "cell_type": "code",
   "execution_count": 50,
   "metadata": {
    "collapsed": true
   },
   "outputs": [],
   "source": [
    "def getDistance(latA, lonA, latB, lonB):  \n",
    "    ra = 6378140  # radius of equator: meter  \n",
    "    rb = 6356755  # radius of polar: meter  \n",
    "    flatten = (ra - rb) / ra  # Partial rate of the earth  \n",
    "    # change angle to radians  \n",
    "    radLatA = radians(latA)  \n",
    "    radLonA = radians(lonA)  \n",
    "    radLatB = radians(latB)  \n",
    "    radLonB = radians(lonB)  \n",
    "  \n",
    "    try: \n",
    "        pA = atan(rb / ra * tan(radLatA))  \n",
    "        pB = atan(rb / ra * tan(radLatB))  \n",
    "        x = acos(sin(pA) * sin(pB) + cos(pA) * cos(pB) * cos(radLonA - radLonB))  \n",
    "        c1 = (sin(x) - x) * (sin(pA) + sin(pB))**2 / cos(x / 2)**2  \n",
    "        c2 = (sin(x) + x) * (sin(pA) - sin(pB))**2 / sin(x / 2)**2  \n",
    "        dr = flatten / 8 * (c1 - c2)  \n",
    "        distance = ra * (x + dr)  \n",
    "        return distance  # meter   \n",
    "    except:\n",
    "        return 0.0000001\n",
    "    \n",
    "def score(latA, lonA, latB, lonB): #计算分数\n",
    "    res = 0\n",
    "    for i in range(len(latA)):\n",
    "        d = getDistance(latA[i], lonA[i], latB[i], lonB[i])\n",
    "        res += 1. / (1. + np.exp(-(d-1000)/250.))\n",
    "    return res / len(latA)"
   ]
  },
  {
   "cell_type": "code",
   "execution_count": 3,
   "metadata": {
    "collapsed": true
   },
   "outputs": [],
   "source": [
    "good_train = pd.read_csv('D:/bmsz/good_train.csv', low_memory=False)\n",
    "good_test = pd.read_csv('D:/bmsz/good_test.csv', low_memory=False)\n",
    "train = pd.read_csv('D:/bmsz/train_new.csv', low_memory=False)\n",
    "test = pd.read_csv('D:/bmsz/test_new.csv', low_memory=False)"
   ]
  },
  {
   "cell_type": "code",
   "execution_count": 4,
   "metadata": {},
   "outputs": [
    {
     "data": {
      "text/plain": [
       "11519"
      ]
     },
     "execution_count": 4,
     "metadata": {},
     "output_type": "execute_result"
    },
    {
     "data": {
      "text/plain": [
       "58097"
      ]
     },
     "execution_count": 4,
     "metadata": {},
     "output_type": "execute_result"
    }
   ],
   "source": [
    "(good_test['start_block'] == -1).sum()\n",
    "(good_test['out_id'].isin(good_train['out_id'])).sum()"
   ]
  },
  {
   "cell_type": "code",
   "execution_count": 15,
   "metadata": {},
   "outputs": [
    {
     "data": {
      "text/plain": [
       "out_id\n",
       "2016061820000b           206944.848219\n",
       "358962079107966           24909.258931\n",
       "358962079111695          143699.995891\n",
       "358962079120563          178366.584784\n",
       "4A23256745CBA3B0         250413.641220\n",
       "663321706008871           91845.271091\n",
       "673691705008931             161.011714\n",
       "698851707000191          108482.103825\n",
       "698851707000261          154578.047108\n",
       "815821712000052          253334.882242\n",
       "815821801000740          241059.915664\n",
       "851181601004171          159585.840557\n",
       "851181601028851           57893.116428\n",
       "851181601046893          102604.588370\n",
       "851181601098191          139512.353761\n",
       "851181601098201          345258.073679\n",
       "851181601098271           71853.448111\n",
       "851181601099451          108017.236530\n",
       "861021508004521           93769.527639\n",
       "861021508005421           42768.666843\n",
       "861021508005811          166350.629345\n",
       "861021509004701           81130.381466\n",
       "861021509011351          404987.965482\n",
       "861021509014661          147442.346020\n",
       "861021509015321           39289.273786\n",
       "861021509017441           41312.361358\n",
       "861021510000222          328647.397379\n",
       "861021510002172           90325.350150\n",
       "861021510002522          171061.564544\n",
       "861021510007852           92209.752320\n",
       "                             ...      \n",
       "891941605003621          161328.259137\n",
       "891941605004011          137537.278876\n",
       "891941605004231          192472.873623\n",
       "891941605004631           13723.361821\n",
       "891941605006361           20930.714636\n",
       "891941605006721           28322.467367\n",
       "891941605006931           25115.800639\n",
       "891941605007911           82152.842339\n",
       "891941605008611           82346.193376\n",
       "891941605008621           32876.916162\n",
       "891941605008721          102546.475886\n",
       "895851711000665           65584.777415\n",
       "895851711000830          299386.960411\n",
       "895851711001200          471523.220933\n",
       "895851711001390           44400.565684\n",
       "895851711001416           58475.679084\n",
       "895851711001598          269620.803080\n",
       "895851711002505          210515.940644\n",
       "895851711003404           97902.740216\n",
       "895851711004105           97173.282385\n",
       "895851711004600          166993.030232\n",
       "895851711004782          281041.121468\n",
       "895851711004980          194292.749246\n",
       "895851711005052          144066.842806\n",
       "911691581099171          128261.652536\n",
       "998851710000231           34637.166031\n",
       "998851710001471          194530.590445\n",
       "998851710001531          140245.082745\n",
       "CT910M01E2AA05GG00114    134437.326234\n",
       "CT910M01E2AA08GG00270    126249.090522\n",
       "Length: 5817, dtype: float64"
      ]
     },
     "execution_count": 15,
     "metadata": {},
     "output_type": "execute_result"
    }
   ],
   "source": [
    "'''\n",
    "def get_max_dis(df):\n",
    "    res = 0\n",
    "    for i in range(len(df)):\n",
    "        res = max(res, getDistance(df.iloc[i]['start_lat'], df.iloc[i]['start_lon'],df.iloc[i]['end_lat'],df.iloc[i]['end_lon']))\n",
    "    return res\n",
    "train.groupby('out_id').apply(lambda x: get_max_dis(x))\n",
    "'''"
   ]
  },
  {
   "cell_type": "code",
   "execution_count": 7,
   "metadata": {
    "scrolled": true
   },
   "outputs": [
    {
     "data": {
      "text/html": [
       "<div>\n",
       "<style>\n",
       "    .dataframe thead tr:only-child th {\n",
       "        text-align: right;\n",
       "    }\n",
       "\n",
       "    .dataframe thead th {\n",
       "        text-align: left;\n",
       "    }\n",
       "\n",
       "    .dataframe tbody tr th {\n",
       "        vertical-align: top;\n",
       "    }\n",
       "</style>\n",
       "<table border=\"1\" class=\"dataframe\">\n",
       "  <thead>\n",
       "    <tr style=\"text-align: right;\">\n",
       "      <th></th>\n",
       "      <th>0</th>\n",
       "    </tr>\n",
       "  </thead>\n",
       "  <tbody>\n",
       "    <tr>\n",
       "      <th>count</th>\n",
       "      <td>5817.000000</td>\n",
       "    </tr>\n",
       "    <tr>\n",
       "      <th>mean</th>\n",
       "      <td>177.707065</td>\n",
       "    </tr>\n",
       "    <tr>\n",
       "      <th>std</th>\n",
       "      <td>98.088275</td>\n",
       "    </tr>\n",
       "    <tr>\n",
       "      <th>min</th>\n",
       "      <td>2.000000</td>\n",
       "    </tr>\n",
       "    <tr>\n",
       "      <th>25%</th>\n",
       "      <td>101.000000</td>\n",
       "    </tr>\n",
       "    <tr>\n",
       "      <th>50%</th>\n",
       "      <td>156.000000</td>\n",
       "    </tr>\n",
       "    <tr>\n",
       "      <th>75%</th>\n",
       "      <td>240.000000</td>\n",
       "    </tr>\n",
       "    <tr>\n",
       "      <th>max</th>\n",
       "      <td>510.000000</td>\n",
       "    </tr>\n",
       "  </tbody>\n",
       "</table>\n",
       "</div>"
      ],
      "text/plain": [
       "                 0\n",
       "count  5817.000000\n",
       "mean    177.707065\n",
       "std      98.088275\n",
       "min       2.000000\n",
       "25%     101.000000\n",
       "50%     156.000000\n",
       "75%     240.000000\n",
       "max     510.000000"
      ]
     },
     "execution_count": 7,
     "metadata": {},
     "output_type": "execute_result"
    },
    {
     "data": {
      "text/html": [
       "<div>\n",
       "<style>\n",
       "    .dataframe thead tr:only-child th {\n",
       "        text-align: right;\n",
       "    }\n",
       "\n",
       "    .dataframe thead th {\n",
       "        text-align: left;\n",
       "    }\n",
       "\n",
       "    .dataframe tbody tr th {\n",
       "        vertical-align: top;\n",
       "    }\n",
       "</style>\n",
       "<table border=\"1\" class=\"dataframe\">\n",
       "  <thead>\n",
       "    <tr style=\"text-align: right;\">\n",
       "      <th></th>\n",
       "      <th>0</th>\n",
       "    </tr>\n",
       "  </thead>\n",
       "  <tbody>\n",
       "    <tr>\n",
       "      <th>count</th>\n",
       "      <td>5817.000000</td>\n",
       "    </tr>\n",
       "    <tr>\n",
       "      <th>mean</th>\n",
       "      <td>257.145264</td>\n",
       "    </tr>\n",
       "    <tr>\n",
       "      <th>std</th>\n",
       "      <td>101.075236</td>\n",
       "    </tr>\n",
       "    <tr>\n",
       "      <th>min</th>\n",
       "      <td>87.000000</td>\n",
       "    </tr>\n",
       "    <tr>\n",
       "      <th>25%</th>\n",
       "      <td>175.000000</td>\n",
       "    </tr>\n",
       "    <tr>\n",
       "      <th>50%</th>\n",
       "      <td>238.000000</td>\n",
       "    </tr>\n",
       "    <tr>\n",
       "      <th>75%</th>\n",
       "      <td>328.000000</td>\n",
       "    </tr>\n",
       "    <tr>\n",
       "      <th>max</th>\n",
       "      <td>582.000000</td>\n",
       "    </tr>\n",
       "  </tbody>\n",
       "</table>\n",
       "</div>"
      ],
      "text/plain": [
       "                 0\n",
       "count  5817.000000\n",
       "mean    257.145264\n",
       "std     101.075236\n",
       "min      87.000000\n",
       "25%     175.000000\n",
       "50%     238.000000\n",
       "75%     328.000000\n",
       "max     582.000000"
      ]
     },
     "execution_count": 7,
     "metadata": {},
     "output_type": "execute_result"
    }
   ],
   "source": [
    "good_train.groupby('out_id').apply(lambda x: len(x)).reset_index().describe()\n",
    "train.groupby('out_id').apply(lambda x: len(x)).reset_index().describe()"
   ]
  },
  {
   "cell_type": "markdown",
   "metadata": {
    "collapsed": true
   },
   "source": [
    "#### 加入时间特征"
   ]
  },
  {
   "cell_type": "code",
   "execution_count": 38,
   "metadata": {
    "collapsed": true
   },
   "outputs": [],
   "source": [
    "def add_time_feature(df):\n",
    "    #2018/01/01-2018/10/31的节日与特殊工作日\n",
    "    special_holiday = ['2018-01-01'] + ['2018-02-%d' % d for d in range(15, 22)] + \\\n",
    "                      ['2018-04-%2d' % d for d in range(5, 8)] + \\\n",
    "                      ['2018-04-%d' % d for d in range(29, 31)] + ['2018-05-01'] +\\\n",
    "                      ['2018-06-%d' % d for d in range(16, 19)] + \\\n",
    "                      ['2018-09-%d' % d for d in range(22, 25)] + \\\n",
    "                      ['2018-10-%2d' % d for d in range(1, 8)]\n",
    "    special_workday = ['2018-02-%d' % d for d in [11, 24]] + \\\n",
    "                      ['2018-04-08'] + ['2018-04-28'] + \\\n",
    "                      ['2018-09-%d' % d for d in range(29, 31)]\n",
    "    date = 'start_time'\n",
    "    tmp_col = df[date].map(pd.Timestamp)\n",
    "    df['hour'] = tmp_col.map(lambda t: t.hour)\n",
    "    df['half'] = tmp_col.map(lambda t: t.minute // 30)\n",
    "    df['day'] = tmp_col.map(lambda t: t.dayofweek)\n",
    "    tmp_date_col = df[date].map(lambda t: t[:10])\n",
    "    df['is_special_holiday'] = tmp_date_col.isin(special_holiday).astype(int)\n",
    "    df['normal_weekend'] = (df['day'] >= 5 & ~df['is_special_holiday']).astype(int)\n",
    "add_time_feature(train)\n",
    "add_time_feature(test)"
   ]
  },
  {
   "cell_type": "code",
   "execution_count": 56,
   "metadata": {},
   "outputs": [],
   "source": [
    "train = train.drop(['r_key', 'start_time', 'end_time'], axis=1)\n",
    "test_r_key = test['r_key']\n",
    "test = test.drop(['r_key', 'start_time'], axis=1)"
   ]
  },
  {
   "cell_type": "code",
   "execution_count": 59,
   "metadata": {},
   "outputs": [
    {
     "data": {
      "text/html": [
       "<div>\n",
       "<style>\n",
       "    .dataframe thead tr:only-child th {\n",
       "        text-align: right;\n",
       "    }\n",
       "\n",
       "    .dataframe thead th {\n",
       "        text-align: left;\n",
       "    }\n",
       "\n",
       "    .dataframe tbody tr th {\n",
       "        vertical-align: top;\n",
       "    }\n",
       "</style>\n",
       "<table border=\"1\" class=\"dataframe\">\n",
       "  <thead>\n",
       "    <tr style=\"text-align: right;\">\n",
       "      <th></th>\n",
       "      <th>out_id</th>\n",
       "      <th>start_lat</th>\n",
       "      <th>start_lon</th>\n",
       "      <th>end_lat</th>\n",
       "      <th>end_lon</th>\n",
       "      <th>hour</th>\n",
       "      <th>half</th>\n",
       "      <th>day</th>\n",
       "      <th>is_special_holiday</th>\n",
       "      <th>normal_weekend</th>\n",
       "    </tr>\n",
       "  </thead>\n",
       "  <tbody>\n",
       "    <tr>\n",
       "      <th>0</th>\n",
       "      <td>2016061820000b</td>\n",
       "      <td>33.783415</td>\n",
       "      <td>111.603660</td>\n",
       "      <td>33.779811</td>\n",
       "      <td>111.605885</td>\n",
       "      <td>10</td>\n",
       "      <td>0</td>\n",
       "      <td>5</td>\n",
       "      <td>0</td>\n",
       "      <td>1</td>\n",
       "    </tr>\n",
       "    <tr>\n",
       "      <th>1</th>\n",
       "      <td>2016061820000b</td>\n",
       "      <td>34.810763</td>\n",
       "      <td>115.549264</td>\n",
       "      <td>34.814875</td>\n",
       "      <td>115.549374</td>\n",
       "      <td>17</td>\n",
       "      <td>1</td>\n",
       "      <td>0</td>\n",
       "      <td>0</td>\n",
       "      <td>0</td>\n",
       "    </tr>\n",
       "    <tr>\n",
       "      <th>2</th>\n",
       "      <td>2016061820000b</td>\n",
       "      <td>34.640284</td>\n",
       "      <td>115.539024</td>\n",
       "      <td>34.813136</td>\n",
       "      <td>115.559243</td>\n",
       "      <td>14</td>\n",
       "      <td>1</td>\n",
       "      <td>1</td>\n",
       "      <td>0</td>\n",
       "      <td>0</td>\n",
       "    </tr>\n",
       "    <tr>\n",
       "      <th>3</th>\n",
       "      <td>2016061820000b</td>\n",
       "      <td>34.818280</td>\n",
       "      <td>115.542039</td>\n",
       "      <td>34.813141</td>\n",
       "      <td>115.559217</td>\n",
       "      <td>17</td>\n",
       "      <td>0</td>\n",
       "      <td>1</td>\n",
       "      <td>0</td>\n",
       "      <td>0</td>\n",
       "    </tr>\n",
       "    <tr>\n",
       "      <th>4</th>\n",
       "      <td>2016061820000b</td>\n",
       "      <td>34.813278</td>\n",
       "      <td>115.559260</td>\n",
       "      <td>34.786126</td>\n",
       "      <td>115.874361</td>\n",
       "      <td>18</td>\n",
       "      <td>0</td>\n",
       "      <td>1</td>\n",
       "      <td>0</td>\n",
       "      <td>0</td>\n",
       "    </tr>\n",
       "  </tbody>\n",
       "</table>\n",
       "</div>"
      ],
      "text/plain": [
       "           out_id  start_lat   start_lon    end_lat     end_lon  hour  half  \\\n",
       "0  2016061820000b  33.783415  111.603660  33.779811  111.605885    10     0   \n",
       "1  2016061820000b  34.810763  115.549264  34.814875  115.549374    17     1   \n",
       "2  2016061820000b  34.640284  115.539024  34.813136  115.559243    14     1   \n",
       "3  2016061820000b  34.818280  115.542039  34.813141  115.559217    17     0   \n",
       "4  2016061820000b  34.813278  115.559260  34.786126  115.874361    18     0   \n",
       "\n",
       "   day  is_special_holiday  normal_weekend  \n",
       "0    5                   0               1  \n",
       "1    0                   0               0  \n",
       "2    1                   0               0  \n",
       "3    1                   0               0  \n",
       "4    1                   0               0  "
      ]
     },
     "execution_count": 59,
     "metadata": {},
     "output_type": "execute_result"
    }
   ],
   "source": [
    "train.head()"
   ]
  },
  {
   "cell_type": "code",
   "execution_count": 52,
   "metadata": {},
   "outputs": [],
   "source": [
    "car_data_dict = {}\n",
    "count = 3\n",
    "for car_id, data in train.groupby('out_id'):\n",
    "    car_data_dict[car_id] = data.reset_index(), None #第二个用于存放学习器\n",
    "    count -= 1\n",
    "    if count == 0: break"
   ]
  },
  {
   "cell_type": "code",
   "execution_count": 82,
   "metadata": {},
   "outputs": [],
   "source": [
    "def train_one_car(car_id):\n",
    "    data = car_data_dict[car_id][0]\n",
    "    blocks_data = np.concatenate([data[['end_lat', 'end_lon']].values, data[['start_lat', 'start_lon']].values])\n",
    "    db = DBSCAN(eps=5e-3, min_samples=2, p=1, leaf_size=10, n_jobs=-1).fit(blocks_data)\n",
    "    print(len(data))\n",
    "    print(len(db.labels_))\n",
    "    #data['end_block'] = db.labels_\n",
    "    print(db.labels_)\n",
    "    print(np.unique(db.labels_))\n",
    "    print((db.labels_ == -1).sum())"
   ]
  },
  {
   "cell_type": "code",
   "execution_count": 83,
   "metadata": {},
   "outputs": [
    {
     "name": "stdout",
     "output_type": "stream",
     "text": [
      "128\n",
      "256\n",
      "[ 0  1  2  2  3  2  4  5 -1  3  2  6 -1  7  7  7  2  7  2  8  9  3  6 10  6\n",
      "  3  2  4  2  4  2  4 -1 -1  4 11  2  4  4 12  4 13 14  1 -1  1  2 15  1  4\n",
      "  2  1  2  4  8 16  2  2 -1 17  2 18 19  2  2  4  4  8  8  3  2  2 19 13  2\n",
      " 20  4  1 21 22 23 24 25  0  9  4  8  4 14 -1  2  2  4  2 13 -1 -1  4  4  2\n",
      "  8  2 26 27 28  2  4  4  4  4  4  4 29 -1 15  2  1  8 30  2 31  4  1 32 27\n",
      "  5  1 12  0  1  4  1  2  3  2 -1  5 -1 -1  2 33  7  7 33  4  7 -1  1  8  9\n",
      "  3  6 10  6  3  2  4  2  4  2  4 -1  2 17 11  2  2  4  2  2  4  4  2  4  4\n",
      "  2  4  2  4  2  4  2  4 19 16  4  2  4 17  2 18 19 19  2  2  4  2  4  3  1\n",
      "  2 19 13  2 20  4 -1 21 22 23 24 25  4  2  4  2  4  2  4  4  2 -1 -1 13  1\n",
      "  2  4  4  2  8  2 26 27 28  2  2  2  2  2  2 -1 29  4  4  4  4  8 30  4 31\n",
      "  4  2 32 28  4  2]\n",
      "[-1  0  1  2  3  4  5  6  7  8  9 10 11 12 13 14 15 16 17 18 19 20 21 22 23\n",
      " 24 25 26 27 28 29 30 31 32 33]\n",
      "19\n"
     ]
    }
   ],
   "source": [
    "train_one_car('2016061820000b')"
   ]
  },
  {
   "cell_type": "code",
   "execution_count": 32,
   "metadata": {},
   "outputs": [],
   "source": [
    "b = test['start_time'].map(lambda t: t[:10])"
   ]
  },
  {
   "cell_type": "code",
   "execution_count": 71,
   "metadata": {},
   "outputs": [
    {
     "ename": "NameError",
     "evalue": "name 'unique' is not defined",
     "output_type": "error",
     "traceback": [
      "\u001b[1;31m---------------------------------------------------------------------------\u001b[0m",
      "\u001b[1;31mNameError\u001b[0m                                 Traceback (most recent call last)",
      "\u001b[1;32m<ipython-input-71-99db73b3b726>\u001b[0m in \u001b[0;36m<module>\u001b[1;34m()\u001b[0m\n\u001b[1;32m----> 1\u001b[1;33m \u001b[0munique\u001b[0m\u001b[1;33m(\u001b[0m\u001b[0mnp\u001b[0m\u001b[1;33m.\u001b[0m\u001b[0marray\u001b[0m\u001b[1;33m(\u001b[0m\u001b[1;33m[\u001b[0m\u001b[1;36m1\u001b[0m\u001b[1;33m,\u001b[0m\u001b[1;36m2\u001b[0m\u001b[1;33m]\u001b[0m\u001b[1;33m)\u001b[0m\u001b[1;33m)\u001b[0m\u001b[1;33m\u001b[0m\u001b[0m\n\u001b[0m",
      "\u001b[1;31mNameError\u001b[0m: name 'unique' is not defined"
     ]
    }
   ],
   "source": [
    "unique(np.array([1,2]))"
   ]
  },
  {
   "cell_type": "code",
   "execution_count": null,
   "metadata": {
    "collapsed": true
   },
   "outputs": [],
   "source": []
  }
 ],
 "metadata": {
  "kernelspec": {
   "display_name": "Python 3",
   "language": "python",
   "name": "python3"
  },
  "language_info": {
   "codemirror_mode": {
    "name": "ipython",
    "version": 3
   },
   "file_extension": ".py",
   "mimetype": "text/x-python",
   "name": "python",
   "nbconvert_exporter": "python",
   "pygments_lexer": "ipython3",
   "version": "3.6.3"
  }
 },
 "nbformat": 4,
 "nbformat_minor": 2
}
